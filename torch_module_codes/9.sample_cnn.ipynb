{
  "nbformat": 4,
  "nbformat_minor": 5,
  "metadata": {
    "kernelspec": {
      "display_name": "Python 3 (ipykernel)",
      "language": "python",
      "name": "python3"
    },
    "language_info": {
      "codemirror_mode": {
        "name": "ipython",
        "version": 3
      },
      "file_extension": ".py",
      "mimetype": "text/x-python",
      "name": "python",
      "nbconvert_exporter": "python",
      "pygments_lexer": "ipython3",
      "version": "3.8.10"
    },
    "colab": {
      "name": "sample_cnn.ipynb",
      "provenance": []
    },
    "accelerator": "GPU",
    "widgets": {
      "application/vnd.jupyter.widget-state+json": {
        "1d59349f98844394a1c3ad708cb4e741": {
          "model_module": "@jupyter-widgets/controls",
          "model_name": "HBoxModel",
          "model_module_version": "1.5.0",
          "state": {
            "_view_name": "HBoxView",
            "_dom_classes": [],
            "_model_name": "HBoxModel",
            "_view_module": "@jupyter-widgets/controls",
            "_model_module_version": "1.5.0",
            "_view_count": null,
            "_view_module_version": "1.5.0",
            "box_style": "",
            "layout": "IPY_MODEL_3ecb3b1abef843d79aa347b9028b8cbc",
            "_model_module": "@jupyter-widgets/controls",
            "children": [
              "IPY_MODEL_9a0d7e4dead8422fb6219afbebb0ea13",
              "IPY_MODEL_f267521a115b4f7888e3bd6547ebd9e4",
              "IPY_MODEL_da125ac7266e45d88f775f17636a6485"
            ]
          }
        },
        "3ecb3b1abef843d79aa347b9028b8cbc": {
          "model_module": "@jupyter-widgets/base",
          "model_name": "LayoutModel",
          "model_module_version": "1.2.0",
          "state": {
            "_view_name": "LayoutView",
            "grid_template_rows": null,
            "right": null,
            "justify_content": null,
            "_view_module": "@jupyter-widgets/base",
            "overflow": null,
            "_model_module_version": "1.2.0",
            "_view_count": null,
            "flex_flow": null,
            "width": null,
            "min_width": null,
            "border": null,
            "align_items": null,
            "bottom": null,
            "_model_module": "@jupyter-widgets/base",
            "top": null,
            "grid_column": null,
            "overflow_y": null,
            "overflow_x": null,
            "grid_auto_flow": null,
            "grid_area": null,
            "grid_template_columns": null,
            "flex": null,
            "_model_name": "LayoutModel",
            "justify_items": null,
            "grid_row": null,
            "max_height": null,
            "align_content": null,
            "visibility": null,
            "align_self": null,
            "height": null,
            "min_height": null,
            "padding": null,
            "grid_auto_rows": null,
            "grid_gap": null,
            "max_width": null,
            "order": null,
            "_view_module_version": "1.2.0",
            "grid_template_areas": null,
            "object_position": null,
            "object_fit": null,
            "grid_auto_columns": null,
            "margin": null,
            "display": null,
            "left": null
          }
        },
        "9a0d7e4dead8422fb6219afbebb0ea13": {
          "model_module": "@jupyter-widgets/controls",
          "model_name": "HTMLModel",
          "model_module_version": "1.5.0",
          "state": {
            "_view_name": "HTMLView",
            "style": "IPY_MODEL_230c1fa6f8424d0a8dde22f1bb7d4a83",
            "_dom_classes": [],
            "description": "",
            "_model_name": "HTMLModel",
            "placeholder": "​",
            "_view_module": "@jupyter-widgets/controls",
            "_model_module_version": "1.5.0",
            "value": "",
            "_view_count": null,
            "_view_module_version": "1.5.0",
            "description_tooltip": null,
            "_model_module": "@jupyter-widgets/controls",
            "layout": "IPY_MODEL_a5e6d39f6f204e1885bdba7f3991877b"
          }
        },
        "f267521a115b4f7888e3bd6547ebd9e4": {
          "model_module": "@jupyter-widgets/controls",
          "model_name": "FloatProgressModel",
          "model_module_version": "1.5.0",
          "state": {
            "_view_name": "ProgressView",
            "style": "IPY_MODEL_ef1b0e5c87594e7db4b9ac6dd6023e16",
            "_dom_classes": [],
            "description": "",
            "_model_name": "FloatProgressModel",
            "bar_style": "success",
            "max": 170498071,
            "_view_module": "@jupyter-widgets/controls",
            "_model_module_version": "1.5.0",
            "value": 170498071,
            "_view_count": null,
            "_view_module_version": "1.5.0",
            "orientation": "horizontal",
            "min": 0,
            "description_tooltip": null,
            "_model_module": "@jupyter-widgets/controls",
            "layout": "IPY_MODEL_caed938d22474f5796585e6516bd3118"
          }
        },
        "da125ac7266e45d88f775f17636a6485": {
          "model_module": "@jupyter-widgets/controls",
          "model_name": "HTMLModel",
          "model_module_version": "1.5.0",
          "state": {
            "_view_name": "HTMLView",
            "style": "IPY_MODEL_0ba861a7c1c345e1b02b9da57921896e",
            "_dom_classes": [],
            "description": "",
            "_model_name": "HTMLModel",
            "placeholder": "​",
            "_view_module": "@jupyter-widgets/controls",
            "_model_module_version": "1.5.0",
            "value": " 170499072/? [00:25&lt;00:00, 21478744.44it/s]",
            "_view_count": null,
            "_view_module_version": "1.5.0",
            "description_tooltip": null,
            "_model_module": "@jupyter-widgets/controls",
            "layout": "IPY_MODEL_32d76f617dbd440ca494a7977adc791f"
          }
        },
        "230c1fa6f8424d0a8dde22f1bb7d4a83": {
          "model_module": "@jupyter-widgets/controls",
          "model_name": "DescriptionStyleModel",
          "model_module_version": "1.5.0",
          "state": {
            "_view_name": "StyleView",
            "_model_name": "DescriptionStyleModel",
            "description_width": "",
            "_view_module": "@jupyter-widgets/base",
            "_model_module_version": "1.5.0",
            "_view_count": null,
            "_view_module_version": "1.2.0",
            "_model_module": "@jupyter-widgets/controls"
          }
        },
        "a5e6d39f6f204e1885bdba7f3991877b": {
          "model_module": "@jupyter-widgets/base",
          "model_name": "LayoutModel",
          "model_module_version": "1.2.0",
          "state": {
            "_view_name": "LayoutView",
            "grid_template_rows": null,
            "right": null,
            "justify_content": null,
            "_view_module": "@jupyter-widgets/base",
            "overflow": null,
            "_model_module_version": "1.2.0",
            "_view_count": null,
            "flex_flow": null,
            "width": null,
            "min_width": null,
            "border": null,
            "align_items": null,
            "bottom": null,
            "_model_module": "@jupyter-widgets/base",
            "top": null,
            "grid_column": null,
            "overflow_y": null,
            "overflow_x": null,
            "grid_auto_flow": null,
            "grid_area": null,
            "grid_template_columns": null,
            "flex": null,
            "_model_name": "LayoutModel",
            "justify_items": null,
            "grid_row": null,
            "max_height": null,
            "align_content": null,
            "visibility": null,
            "align_self": null,
            "height": null,
            "min_height": null,
            "padding": null,
            "grid_auto_rows": null,
            "grid_gap": null,
            "max_width": null,
            "order": null,
            "_view_module_version": "1.2.0",
            "grid_template_areas": null,
            "object_position": null,
            "object_fit": null,
            "grid_auto_columns": null,
            "margin": null,
            "display": null,
            "left": null
          }
        },
        "ef1b0e5c87594e7db4b9ac6dd6023e16": {
          "model_module": "@jupyter-widgets/controls",
          "model_name": "ProgressStyleModel",
          "model_module_version": "1.5.0",
          "state": {
            "_view_name": "StyleView",
            "_model_name": "ProgressStyleModel",
            "description_width": "",
            "_view_module": "@jupyter-widgets/base",
            "_model_module_version": "1.5.0",
            "_view_count": null,
            "_view_module_version": "1.2.0",
            "bar_color": null,
            "_model_module": "@jupyter-widgets/controls"
          }
        },
        "caed938d22474f5796585e6516bd3118": {
          "model_module": "@jupyter-widgets/base",
          "model_name": "LayoutModel",
          "model_module_version": "1.2.0",
          "state": {
            "_view_name": "LayoutView",
            "grid_template_rows": null,
            "right": null,
            "justify_content": null,
            "_view_module": "@jupyter-widgets/base",
            "overflow": null,
            "_model_module_version": "1.2.0",
            "_view_count": null,
            "flex_flow": null,
            "width": null,
            "min_width": null,
            "border": null,
            "align_items": null,
            "bottom": null,
            "_model_module": "@jupyter-widgets/base",
            "top": null,
            "grid_column": null,
            "overflow_y": null,
            "overflow_x": null,
            "grid_auto_flow": null,
            "grid_area": null,
            "grid_template_columns": null,
            "flex": null,
            "_model_name": "LayoutModel",
            "justify_items": null,
            "grid_row": null,
            "max_height": null,
            "align_content": null,
            "visibility": null,
            "align_self": null,
            "height": null,
            "min_height": null,
            "padding": null,
            "grid_auto_rows": null,
            "grid_gap": null,
            "max_width": null,
            "order": null,
            "_view_module_version": "1.2.0",
            "grid_template_areas": null,
            "object_position": null,
            "object_fit": null,
            "grid_auto_columns": null,
            "margin": null,
            "display": null,
            "left": null
          }
        },
        "0ba861a7c1c345e1b02b9da57921896e": {
          "model_module": "@jupyter-widgets/controls",
          "model_name": "DescriptionStyleModel",
          "model_module_version": "1.5.0",
          "state": {
            "_view_name": "StyleView",
            "_model_name": "DescriptionStyleModel",
            "description_width": "",
            "_view_module": "@jupyter-widgets/base",
            "_model_module_version": "1.5.0",
            "_view_count": null,
            "_view_module_version": "1.2.0",
            "_model_module": "@jupyter-widgets/controls"
          }
        },
        "32d76f617dbd440ca494a7977adc791f": {
          "model_module": "@jupyter-widgets/base",
          "model_name": "LayoutModel",
          "model_module_version": "1.2.0",
          "state": {
            "_view_name": "LayoutView",
            "grid_template_rows": null,
            "right": null,
            "justify_content": null,
            "_view_module": "@jupyter-widgets/base",
            "overflow": null,
            "_model_module_version": "1.2.0",
            "_view_count": null,
            "flex_flow": null,
            "width": null,
            "min_width": null,
            "border": null,
            "align_items": null,
            "bottom": null,
            "_model_module": "@jupyter-widgets/base",
            "top": null,
            "grid_column": null,
            "overflow_y": null,
            "overflow_x": null,
            "grid_auto_flow": null,
            "grid_area": null,
            "grid_template_columns": null,
            "flex": null,
            "_model_name": "LayoutModel",
            "justify_items": null,
            "grid_row": null,
            "max_height": null,
            "align_content": null,
            "visibility": null,
            "align_self": null,
            "height": null,
            "min_height": null,
            "padding": null,
            "grid_auto_rows": null,
            "grid_gap": null,
            "max_width": null,
            "order": null,
            "_view_module_version": "1.2.0",
            "grid_template_areas": null,
            "object_position": null,
            "object_fit": null,
            "grid_auto_columns": null,
            "margin": null,
            "display": null,
            "left": null
          }
        }
      }
    }
  },
  "cells": [
    {
      "cell_type": "code",
      "metadata": {
        "id": "9307386e"
      },
      "source": [
        "import torch\n",
        "import torch.nn as nn\n",
        "import torch.nn.functional as F\n",
        "import torchvision\n",
        "import torchvision.transforms as transforms\n",
        "import seaborn as sns\n",
        "import numpy as np\n"
      ],
      "id": "9307386e",
      "execution_count": 1,
      "outputs": []
    },
    {
      "cell_type": "code",
      "metadata": {
        "id": "7146e7f8"
      },
      "source": [
        "device=torch.device('cuda'if torch.cuda.is_available else 'cpu')"
      ],
      "id": "7146e7f8",
      "execution_count": 2,
      "outputs": []
    },
    {
      "cell_type": "code",
      "metadata": {
        "id": "99c68c72"
      },
      "source": [
        "num_epochs=4\n",
        "batch_size=4\n",
        "lr=0.001"
      ],
      "id": "99c68c72",
      "execution_count": 16,
      "outputs": []
    },
    {
      "cell_type": "code",
      "metadata": {
        "colab": {
          "base_uri": "https://localhost:8080/",
          "height": 103,
          "referenced_widgets": [
            "1d59349f98844394a1c3ad708cb4e741",
            "3ecb3b1abef843d79aa347b9028b8cbc",
            "9a0d7e4dead8422fb6219afbebb0ea13",
            "f267521a115b4f7888e3bd6547ebd9e4",
            "da125ac7266e45d88f775f17636a6485",
            "230c1fa6f8424d0a8dde22f1bb7d4a83",
            "a5e6d39f6f204e1885bdba7f3991877b",
            "ef1b0e5c87594e7db4b9ac6dd6023e16",
            "caed938d22474f5796585e6516bd3118",
            "0ba861a7c1c345e1b02b9da57921896e",
            "32d76f617dbd440ca494a7977adc791f"
          ]
        },
        "id": "cb8d1fe2",
        "outputId": "546e3adf-f261-49a1-e789-054ef2c076d7"
      },
      "source": [
        "transform=transforms.Compose(\n",
        "[transforms.ToTensor(),\n",
        "transforms.Normalize((0.5,0.5,0.5),(0.5,0.5,0.5))])\n",
        "train=torchvision.datasets.CIFAR10(root='./content/data',train=True,download=True,transform=transform)\n",
        "test=torchvision.datasets.CIFAR10(root='./content/data',train=False,download=True,transform=transform)\n"
      ],
      "id": "cb8d1fe2",
      "execution_count": 4,
      "outputs": [
        {
          "output_type": "stream",
          "name": "stdout",
          "text": [
            "Downloading https://www.cs.toronto.edu/~kriz/cifar-10-python.tar.gz to ./content/data/cifar-10-python.tar.gz\n"
          ]
        },
        {
          "output_type": "display_data",
          "data": {
            "application/vnd.jupyter.widget-view+json": {
              "model_id": "1d59349f98844394a1c3ad708cb4e741",
              "version_minor": 0,
              "version_major": 2
            },
            "text/plain": [
              "  0%|          | 0/170498071 [00:00<?, ?it/s]"
            ]
          },
          "metadata": {}
        },
        {
          "output_type": "stream",
          "name": "stdout",
          "text": [
            "Extracting ./content/data/cifar-10-python.tar.gz to ./content/data\n",
            "Files already downloaded and verified\n"
          ]
        }
      ]
    },
    {
      "cell_type": "code",
      "metadata": {
        "id": "775cdf12"
      },
      "source": [
        "train_dataloader=torch.utils.data.DataLoader(train,batch_size=batch_size,shuffle=True)\n",
        "test_dataloader=torch.utils.data.DataLoader(test,batch_size=batch_size,shuffle=False)"
      ],
      "id": "775cdf12",
      "execution_count": 5,
      "outputs": []
    },
    {
      "cell_type": "code",
      "metadata": {
        "id": "18f97ae7"
      },
      "source": [
        "classes=('deer','dog','frog','horse','ship','truck','car','bird','cat','plane')"
      ],
      "id": "18f97ae7",
      "execution_count": 6,
      "outputs": []
    },
    {
      "cell_type": "code",
      "metadata": {
        "id": "5fa9ee00"
      },
      "source": [
        "sample_image=iter(train_dataloader)"
      ],
      "id": "5fa9ee00",
      "execution_count": 7,
      "outputs": []
    },
    {
      "cell_type": "code",
      "metadata": {
        "colab": {
          "base_uri": "https://localhost:8080/"
        },
        "id": "6117a632",
        "outputId": "d0377755-cdae-4b4f-8e61-cfe06a410b17"
      },
      "source": [
        "samples,labels=sample_image.next()\n",
        "print(samples.shape) #64 batch size, 1 channel, width 28 , height 28\n",
        "print(labels.shape)"
      ],
      "id": "6117a632",
      "execution_count": 8,
      "outputs": [
        {
          "output_type": "stream",
          "name": "stdout",
          "text": [
            "torch.Size([16, 3, 32, 32])\n",
            "torch.Size([16])\n"
          ]
        }
      ]
    },
    {
      "cell_type": "code",
      "metadata": {
        "id": "f61af1c5"
      },
      "source": [
        ""
      ],
      "id": "f61af1c5",
      "execution_count": null,
      "outputs": []
    },
    {
      "cell_type": "code",
      "metadata": {
        "id": "2a04d326"
      },
      "source": [
        "# CONV LAYER FORMULA (W - F + 2P)/S+1\n",
        "# W= width\n",
        "# F= kernel_size\n",
        "# P= padding\n",
        "# S =strides"
      ],
      "id": "2a04d326",
      "execution_count": null,
      "outputs": []
    },
    {
      "cell_type": "code",
      "metadata": {
        "colab": {
          "base_uri": "https://localhost:8080/"
        },
        "id": "5c68deac",
        "outputId": "6fbf85d3-cb49-4161-e9fa-b51ee08f3a75"
      },
      "source": [
        "# REASON OF THIS CODE IS TO CHECK WHAT INPUTS TO PUSH IN DENSE LAYER\n",
        "x1=nn.Conv2d(3,6,5)\n",
        "pool=nn.MaxPool2d(2,2)\n",
        "conv2=nn.Conv2d(6,14,5)\n",
        "\n",
        "print(samples.shape)\n",
        "x=x1(samples)\n",
        "print(x.shape)\n",
        "\n",
        "x=pool(x)\n",
        "print(x.shape)\n",
        "x=conv2(x)\n",
        "print(x.shape)\n",
        "\n",
        "x=pool(x)\n",
        "print(x.shape)\n"
      ],
      "id": "5c68deac",
      "execution_count": 9,
      "outputs": [
        {
          "output_type": "stream",
          "name": "stdout",
          "text": [
            "torch.Size([16, 3, 32, 32])\n",
            "torch.Size([16, 6, 28, 28])\n",
            "torch.Size([16, 6, 14, 14])\n",
            "torch.Size([16, 14, 10, 10])\n",
            "torch.Size([16, 14, 5, 5])\n"
          ]
        },
        {
          "output_type": "stream",
          "name": "stderr",
          "text": [
            "/usr/local/lib/python3.7/dist-packages/torch/nn/functional.py:718: UserWarning: Named tensors and all their associated APIs are an experimental feature and subject to change. Please do not use them for anything important until they are released as stable. (Triggered internally at  /pytorch/c10/core/TensorImpl.h:1156.)\n",
            "  return torch.max_pool2d(input, kernel_size, stride, padding, dilation, ceil_mode)\n"
          ]
        }
      ]
    },
    {
      "cell_type": "code",
      "metadata": {
        "id": "0a018df2"
      },
      "source": [
        "class ConvolutionNet(nn.Module):\n",
        "    def __init__(self):\n",
        "        super(ConvolutionNet, self).__init__()\n",
        "        self.conv1=nn.Conv2d(3,6,5) #input_channel 3 , output_channel is 6\n",
        "        self.pool=nn.MaxPool2d(2,2)\n",
        "        self.conv2=nn.Conv2d(6,16,5)\n",
        "        self.fc1=nn.Linear(16*5*5,120) \n",
        "        self.fc2=nn.Linear(120,84)\n",
        "        self.fc3=nn.Linear(84,10)\n",
        "        \n",
        "        \n",
        "    def forward(self,x):\n",
        "        x=self.conv1(x)\n",
        "        x=F.relu(x)\n",
        "        x=self.pool(x)\n",
        "        x=self.conv2(x)\n",
        "        x=F.relu(x)\n",
        "        x=self.pool(x)\n",
        "        x=x.view(-1,16*5*5)\n",
        "        x= self.fc1(x)\n",
        "        x=F.relu(x)\n",
        "        x=self.fc2(x)\n",
        "        x=F.relu(x)\n",
        "        x=self.fc3(x)\n",
        "        return x\n",
        "    \n"
      ],
      "id": "0a018df2",
      "execution_count": 27,
      "outputs": []
    },
    {
      "cell_type": "code",
      "metadata": {
        "id": "6514e3af"
      },
      "source": [
        "model=ConvolutionNet().to(device)\n",
        "criterion=nn.CrossEntropyLoss() #softmax already included\n",
        "optimizer=torch.optim.SGD(model.parameters(),lr=lr)"
      ],
      "id": "6514e3af",
      "execution_count": 29,
      "outputs": []
    },
    {
      "cell_type": "code",
      "metadata": {
        "colab": {
          "base_uri": "https://localhost:8080/"
        },
        "id": "48u60RPOuXPH",
        "outputId": "c404e83a-f30d-41ec-cfc4-d2d73a686faf"
      },
      "source": [
        "model"
      ],
      "id": "48u60RPOuXPH",
      "execution_count": 30,
      "outputs": [
        {
          "output_type": "execute_result",
          "data": {
            "text/plain": [
              "ConvolutionNet(\n",
              "  (conv1): Conv2d(3, 6, kernel_size=(5, 5), stride=(1, 1))\n",
              "  (pool): MaxPool2d(kernel_size=2, stride=2, padding=0, dilation=1, ceil_mode=False)\n",
              "  (conv2): Conv2d(6, 16, kernel_size=(5, 5), stride=(1, 1))\n",
              "  (fc1): Linear(in_features=400, out_features=120, bias=True)\n",
              "  (fc2): Linear(in_features=120, out_features=84, bias=True)\n",
              "  (fc3): Linear(in_features=84, out_features=10, bias=True)\n",
              ")"
            ]
          },
          "metadata": {},
          "execution_count": 30
        }
      ]
    },
    {
      "cell_type": "code",
      "metadata": {
        "colab": {
          "base_uri": "https://localhost:8080/"
        },
        "id": "569bad94",
        "outputId": "8d07095d-8f3a-434c-a1f1-4c940adf529a"
      },
      "source": [
        "\n",
        "n_total_steps = len(train_dataloader)\n",
        "for epoch in range(num_epochs):\n",
        "    for i, (images, labels) in enumerate(train_dataloader):\n",
        "        # origin shape: [4, 3, 32, 32] = 4, 3, 1024\n",
        "        images = images.to(device)\n",
        "        labels = labels.to(device)\n",
        "\n",
        "        # Forward pass\n",
        "        outputs = model(images)\n",
        "        loss = criterion(outputs, labels)\n",
        "\n",
        "        # Backward and optimize\n",
        "        optimizer.zero_grad()\n",
        "        loss.backward()\n",
        "        optimizer.step()\n",
        "\n",
        "        if (i+1) % 2000 == 0:\n",
        "            print (f'Epoch [{epoch+1}/{num_epochs}], Step [{i+1}/{n_total_steps}], Loss: {loss.item():.4f}')\n",
        "\n",
        "print('Finished Training')\n",
        "PATH = './cnn.pth'\n",
        "torch.save(model.state_dict(), PATH)"
      ],
      "id": "569bad94",
      "execution_count": 31,
      "outputs": [
        {
          "output_type": "stream",
          "name": "stdout",
          "text": [
            "Epoch [1/4], Step [2000/3125], Loss: 2.2988\n",
            "Epoch [2/4], Step [2000/3125], Loss: 2.2839\n",
            "Epoch [3/4], Step [2000/3125], Loss: 2.1121\n",
            "Epoch [4/4], Step [2000/3125], Loss: 1.9401\n",
            "Finished Training\n"
          ]
        }
      ]
    },
    {
      "cell_type": "code",
      "metadata": {
        "colab": {
          "base_uri": "https://localhost:8080/"
        },
        "id": "L84_fHXyuz-U",
        "outputId": "92617be0-a365-4e39-e49b-42026c1ad271"
      },
      "source": [
        "with torch.no_grad():\n",
        "    n_correct = 0\n",
        "    n_samples = 0\n",
        "    n_class_correct = [0 for i in range(10)]\n",
        "    n_class_samples = [0 for i in range(10)]\n",
        "    for images, labels in test_dataloader:\n",
        "        images = images.to(device)\n",
        "        labels = labels.to(device)\n",
        "        outputs = model(images)\n",
        "        # max returns (value ,index)\n",
        "        _, predicted = torch.max(outputs, 1)\n",
        "        n_samples += labels.size(0)\n",
        "        n_correct += (predicted == labels).sum().item()\n",
        "        \n",
        "        for i in range(batch_size):\n",
        "            label = labels[i]\n",
        "            pred = predicted[i]\n",
        "            if (label == pred):\n",
        "                n_class_correct[label] += 1\n",
        "            n_class_samples[label] += 1\n",
        "\n",
        "    acc = 100.0 * n_correct / n_samples\n",
        "    print(f'Accuracy of the network: {acc} %')\n",
        "\n",
        "    for i in range(10):\n",
        "        acc = 100.0 * n_class_correct[i] / n_class_samples[i]\n",
        "        print(f'Accuracy of {classes[i]}: {acc} %')"
      ],
      "id": "L84_fHXyuz-U",
      "execution_count": 34,
      "outputs": [
        {
          "output_type": "stream",
          "name": "stdout",
          "text": [
            "Accuracy of the network: 28.29 %\n",
            "Accuracy of deer: 52.42290748898679 %\n",
            "Accuracy of dog: 39.67611336032389 %\n",
            "Accuracy of frog: 0.7194244604316546 %\n",
            "Accuracy of horse: 13.46938775510204 %\n",
            "Accuracy of ship: 0.7407407407407407 %\n",
            "Accuracy of truck: 24.166666666666668 %\n",
            "Accuracy of car: 67.10526315789474 %\n",
            "Accuracy of bird: 19.37984496124031 %\n",
            "Accuracy of cat: 27.125506072874494 %\n",
            "Accuracy of plane: 34.23076923076923 %\n"
          ]
        }
      ]
    },
    {
      "cell_type": "code",
      "metadata": {
        "id": "HI-0AfGVt_u-"
      },
      "source": [
        ""
      ],
      "id": "HI-0AfGVt_u-",
      "execution_count": null,
      "outputs": []
    }
  ]
}