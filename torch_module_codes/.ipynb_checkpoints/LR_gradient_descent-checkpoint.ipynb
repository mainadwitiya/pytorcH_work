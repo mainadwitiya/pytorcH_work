{
 "cells": [
  {
   "cell_type": "code",
   "execution_count": 27,
   "id": "072874a3",
   "metadata": {},
   "outputs": [],
   "source": [
    "import numpy as np\n",
    "\n",
    "X = np.array([1, 2, 3, 4, 5], dtype=np.float32)\n",
    "y = np.array([2, 4, 6, 8, 10], dtype=np.float32)\n",
    "\n",
    "w = 0.0"
   ]
  },
  {
   "cell_type": "code",
   "execution_count": 28,
   "id": "8e4e63c4",
   "metadata": {},
   "outputs": [],
   "source": [
    "\n",
    "\n",
    "#model prediction\n",
    "def forward(X):\n",
    "    return w*X\n",
    "\n",
    "#loss\n",
    "def loss(y,y_pred):\n",
    "    return ((y_pred-y)**2).mean()\n",
    "#gradient\n",
    "\n",
    "#MSE=1/N*(w*x-y)**2\n",
    "#derivative dJ/dw=1/N 2x(w*x-y)\n",
    "\n",
    "def gradient(X,y,y_predicted):\n",
    "    return np.dot(2*X,y_predicted-y).mean()\n"
   ]
  },
  {
   "cell_type": "code",
   "execution_count": 29,
   "id": "4839f45d",
   "metadata": {},
   "outputs": [
    {
     "name": "stdout",
     "output_type": "stream",
     "text": [
      "pred before train:f(5)=0.000\n",
      "epoch1:w =2.200,loss=44.00000\n",
      "epoch2:w =1.980,loss=0.44000\n",
      "epoch3:w =2.002,loss=0.00440\n",
      "epoch4:w =2.000,loss=0.00004\n",
      "epoch5:w =2.000,loss=0.00000\n",
      "epoch6:w =2.000,loss=0.00000\n",
      "epoch7:w =2.000,loss=0.00000\n",
      "epoch8:w =2.000,loss=0.00000\n",
      "epoch9:w =2.000,loss=0.00000\n",
      "epoch10:w =2.000,loss=0.00000\n",
      "10.000000047683715\n"
     ]
    }
   ],
   "source": [
    "print(f'pred before train:f(5)={forward(5):.3f}')\n",
    "#start training\n",
    "lr=0.01\n",
    "iterations=10\n",
    "for epoch in range(iterations):\n",
    "    #prediction\n",
    "    y_pred=forward(X)\n",
    "    #loss\n",
    "    l=loss(y,y_pred)\n",
    "    #gradients\n",
    "    dw=gradient(X,y,y_pred)\n",
    "    #update weights like gradient descent\n",
    "    w -= lr * dw\n",
    "    if epoch %1==0:\n",
    "        print(f'epoch{epoch+1}:w ={w:.3f},loss={l:.5f}')\n",
    "        \n",
    "print(forward(5))"
   ]
  },
  {
   "cell_type": "code",
   "execution_count": 30,
   "id": "355d5456",
   "metadata": {},
   "outputs": [
    {
     "name": "stdout",
     "output_type": "stream",
     "text": [
      "14.0000000667572\n"
     ]
    }
   ],
   "source": [
    "print(forward(7))\n"
   ]
  },
  {
   "cell_type": "code",
   "execution_count": 32,
   "id": "f64e6330",
   "metadata": {},
   "outputs": [],
   "source": [
    "# lr with torch \n",
    "import torch\n",
    "\n",
    "X = torch.tensor([1, 2, 3, 4, 5], dtype=torch.float32)\n",
    "y = torch.tensor([2, 4, 6, 8, 10], dtype=torch.float32)\n",
    "\n",
    "w = torch.tensor(0.0,dtype=torch.float32,requires_grad=True)\n",
    "\n",
    "#model prediction\n",
    "def forward(X):\n",
    "    return w*X\n",
    "\n",
    "#loss\n",
    "def loss(y,y_predicted):\n",
    "    return ((y_predicted-y)**2).mean()\n",
    "#gradient\n",
    "\n",
    "\n",
    "\n",
    "#we will only change the gradient function\n"
   ]
  },
  {
   "cell_type": "code",
   "execution_count": 37,
   "id": "691c2c89",
   "metadata": {},
   "outputs": [
    {
     "name": "stdout",
     "output_type": "stream",
     "text": [
      "epoch1:w =1.999,loss=0.00001\n",
      "epoch2:w =1.999,loss=0.00001\n",
      "epoch3:w =1.999,loss=0.00001\n",
      "epoch4:w =2.000,loss=0.00000\n",
      "epoch5:w =2.000,loss=0.00000\n",
      "epoch6:w =2.000,loss=0.00000\n",
      "epoch7:w =2.000,loss=0.00000\n",
      "epoch8:w =2.000,loss=0.00000\n",
      "epoch9:w =2.000,loss=0.00000\n",
      "epoch10:w =2.000,loss=0.00000\n",
      "epoch11:w =2.000,loss=0.00000\n",
      "epoch12:w =2.000,loss=0.00000\n",
      "epoch13:w =2.000,loss=0.00000\n",
      "epoch14:w =2.000,loss=0.00000\n",
      "epoch15:w =2.000,loss=0.00000\n",
      "epoch16:w =2.000,loss=0.00000\n",
      "epoch17:w =2.000,loss=0.00000\n",
      "epoch18:w =2.000,loss=0.00000\n",
      "epoch19:w =2.000,loss=0.00000\n",
      "epoch20:w =2.000,loss=0.00000\n",
      "epoch21:w =2.000,loss=0.00000\n",
      "epoch22:w =2.000,loss=0.00000\n",
      "epoch23:w =2.000,loss=0.00000\n",
      "epoch24:w =2.000,loss=0.00000\n",
      "epoch25:w =2.000,loss=0.00000\n",
      "epoch26:w =2.000,loss=0.00000\n",
      "epoch27:w =2.000,loss=0.00000\n",
      "epoch28:w =2.000,loss=0.00000\n",
      "epoch29:w =2.000,loss=0.00000\n",
      "epoch30:w =2.000,loss=0.00000\n"
     ]
    }
   ],
   "source": [
    "lr=0.01\n",
    "iterations=30\n",
    "\n",
    "for epoch in range(iterations):\n",
    "    y_pred=forward(X)\n",
    "    \n",
    "    l=loss(y,y_pred)\n",
    "    #calculates gradient \n",
    "    dw=l.backward() #dl/dw\n",
    "    \n",
    "    #update weights\n",
    "    # should not be part of compuational graph and zero the gradients again before next iterations\n",
    "    with torch.no_grad():\n",
    "        w -= lr *w.grad\n",
    "    \n",
    "    w.grad.zero_()\n",
    "    if epoch %1==0:\n",
    "        print(f'epoch{epoch+1}:w ={w:.3f},loss={l:.5f}')\n",
    "    "
   ]
  },
  {
   "cell_type": "code",
   "execution_count": 38,
   "id": "671373a3",
   "metadata": {},
   "outputs": [
    {
     "name": "stdout",
     "output_type": "stream",
     "text": [
      "After training:- 10.000\n"
     ]
    }
   ],
   "source": [
    "print(f'After training:- {forward(5):.3f}')"
   ]
  },
  {
   "cell_type": "code",
   "execution_count": null,
   "id": "30344a85",
   "metadata": {},
   "outputs": [],
   "source": []
  }
 ],
 "metadata": {
  "kernelspec": {
   "display_name": "Python 3 (ipykernel)",
   "language": "python",
   "name": "python3"
  },
  "language_info": {
   "codemirror_mode": {
    "name": "ipython",
    "version": 3
   },
   "file_extension": ".py",
   "mimetype": "text/x-python",
   "name": "python",
   "nbconvert_exporter": "python",
   "pygments_lexer": "ipython3",
   "version": "3.8.10"
  }
 },
 "nbformat": 4,
 "nbformat_minor": 5
}
