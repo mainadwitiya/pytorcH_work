{
 "cells": [
  {
   "cell_type": "code",
   "execution_count": 1,
   "id": "56fc84dd",
   "metadata": {},
   "outputs": [],
   "source": [
    "#dataloader\n",
    "#Multilayer Neural network, activation\n",
    "#loss and optimizer\n",
    "#training Loops\n",
    "#Model Evaluations"
   ]
  },
  {
   "cell_type": "code",
   "execution_count": 2,
   "id": "95a628c9",
   "metadata": {},
   "outputs": [],
   "source": [
    "import torch\n",
    "import torch.nn as nn\n",
    "import torchvision\n",
    "import torchvision.transforms as transforms\n",
    "import matplotlib.pyplot as plt"
   ]
  },
  {
   "cell_type": "code",
   "execution_count": 3,
   "id": "5d512314",
   "metadata": {},
   "outputs": [],
   "source": [
    "device=torch.device('cuda' if torch.cuda.is_available() else 'cpu')"
   ]
  },
  {
   "cell_type": "code",
   "execution_count": 4,
   "id": "cb4cd19e",
   "metadata": {},
   "outputs": [
    {
     "data": {
      "text/plain": [
       "784"
      ]
     },
     "execution_count": 4,
     "metadata": {},
     "output_type": "execute_result"
    }
   ],
   "source": [
    "28*28\n"
   ]
  },
  {
   "cell_type": "code",
   "execution_count": 5,
   "id": "9f9c7316",
   "metadata": {},
   "outputs": [],
   "source": [
    "#Mnist\n",
    "input_size = 784 # 28x28\n",
    "hidden_states = 256 \n",
    "num_classes = 10\n",
    "num_epochs = 2\n",
    "batch_size = 64\n",
    "learning_rate = 0.001\n"
   ]
  },
  {
   "cell_type": "code",
   "execution_count": 6,
   "id": "9c15309e",
   "metadata": {},
   "outputs": [],
   "source": [
    "# MNIST dataset \n",
    "train_dataset = torchvision.datasets.MNIST(root='./data', \n",
    "                                           train=True, \n",
    "                                           transform=transforms.ToTensor(),  \n",
    "                                           download=True)\n",
    "\n",
    "test_dataset = torchvision.datasets.MNIST(root='./data', \n",
    "                                          train=False, \n",
    "                                          transform=transforms.ToTensor())\n",
    "\n",
    "# Data loader\n",
    "train_loader = torch.utils.data.DataLoader(dataset=train_dataset, \n",
    "                                           batch_size=batch_size, \n",
    "                                           shuffle=True)\n",
    "\n",
    "test_loader = torch.utils.data.DataLoader(dataset=test_dataset, \n",
    "                                          batch_size=batch_size, \n",
    "                                          shuffle=False)\n"
   ]
  },
  {
   "cell_type": "code",
   "execution_count": 7,
   "id": "5783f3e9",
   "metadata": {},
   "outputs": [],
   "source": [
    "sample_ex=iter(train_loader)"
   ]
  },
  {
   "cell_type": "code",
   "execution_count": 8,
   "id": "cdc218c9",
   "metadata": {},
   "outputs": [
    {
     "name": "stdout",
     "output_type": "stream",
     "text": [
      "torch.Size([64, 1, 28, 28])\n",
      "torch.Size([64])\n"
     ]
    }
   ],
   "source": [
    "samples,labels=sample_ex.next()\n",
    "print(samples.shape) #64 batch size, 1 channel, width 28 , height 28\n",
    "print(labels.shape)"
   ]
  },
  {
   "cell_type": "code",
   "execution_count": 9,
   "id": "5c1dccae",
   "metadata": {},
   "outputs": [
    {
     "data": {
      "image/png": "[encoded data removed]",
      "text/plain": [
       "<Figure size 432x288 with 9 Axes>"
      ]
     },
     "metadata": {
      "needs_background": "light"
     },
     "output_type": "display_data"
    }
   ],
   "source": [
    "#lets plot \n",
    "for i in range(9):\n",
    "    plt.subplot(3,3,i+1)\n",
    "    plt.imshow(samples[i][0],cmap='magma_r')\n",
    "plt.show()"
   ]
  },
  {
   "cell_type": "code",
   "execution_count": 10,
   "id": "62b4973c",
   "metadata": {},
   "outputs": [],
   "source": [
    "class Model_Basic(nn.Module):\n",
    "    def __init__(self,input_size,hidden_states,num_classes):\n",
    "        '''\n",
    "        params:\n",
    "            input_size =28*28\n",
    "            hidden_states=128\n",
    "            num_classes=10\n",
    "        '''\n",
    "        super (Model_Basic,self).__init__()\n",
    "        self.input_size = input_size\n",
    "        self.l1=nn.Linear(input_size,hidden_states)\n",
    "        self.relu=nn.ReLU()\n",
    "        self.l2=nn.Linear(hidden_states,num_classes)\n",
    "        \n",
    "    def forward(self,x):\n",
    "        z=self.l1(x)\n",
    "        z=self.relu(z)\n",
    "        z=self.l2(z)\n",
    "        return z\n",
    "\n",
    "    \n",
    "class NeuralNet(nn.Module):\n",
    "    def __init__(self, input_size, hidden_size, num_classes):\n",
    "        super(NeuralNet, self).__init__()\n",
    "        self.input_size = input_size\n",
    "        self.l1 = nn.Linear(input_size, hidden_size) \n",
    "        self.relu = nn.ReLU()\n",
    "        self.l2 = nn.Linear(hidden_size, num_classes)  \n",
    "    \n",
    "    def forward(self, x):\n",
    "        out = self.l1(x)\n",
    "        out = self.relu(out)\n",
    "        out = self.l2(out)\n",
    "        # no activation and no softmax at the end\n",
    "        return out\n",
    "    \n",
    "    \n",
    "model=Model_Basic(input_size,hidden_states,num_classes).to(device) #initiated the model\n",
    "\n",
    "#loss and optimizer\n",
    "criterion = nn.CrossEntropyLoss()\n",
    "optimizer = torch.optim.Adam(model.parameters(), lr=learning_rate)  \n",
    "total_steps=len(train_loader)"
   ]
  },
  {
   "cell_type": "code",
   "execution_count": 11,
   "id": "d5dac926",
   "metadata": {},
   "outputs": [
    {
     "name": "stdout",
     "output_type": "stream",
     "text": [
      "Epoch [1/2], Step [100/938], Loss: 0.4530\n",
      "Epoch [1/2], Step [200/938], Loss: 0.3636\n",
      "Epoch [1/2], Step [300/938], Loss: 0.3510\n",
      "Epoch [1/2], Step [400/938], Loss: 0.1688\n",
      "Epoch [1/2], Step [500/938], Loss: 0.2717\n",
      "Epoch [1/2], Step [600/938], Loss: 0.1813\n",
      "Epoch [1/2], Step [700/938], Loss: 0.1048\n",
      "Epoch [1/2], Step [800/938], Loss: 0.1804\n",
      "Epoch [1/2], Step [900/938], Loss: 0.1667\n",
      "Epoch [2/2], Step [100/938], Loss: 0.1187\n",
      "Epoch [2/2], Step [200/938], Loss: 0.1048\n",
      "Epoch [2/2], Step [300/938], Loss: 0.0581\n",
      "Epoch [2/2], Step [400/938], Loss: 0.1075\n",
      "Epoch [2/2], Step [500/938], Loss: 0.1060\n",
      "Epoch [2/2], Step [600/938], Loss: 0.0649\n",
      "Epoch [2/2], Step [700/938], Loss: 0.0710\n",
      "Epoch [2/2], Step [800/938], Loss: 0.0562\n",
      "Epoch [2/2], Step [900/938], Loss: 0.1974\n",
      "Accuracy: 96.87 %\n"
     ]
    }
   ],
   "source": [
    "n_total_steps = len(train_loader)\n",
    "for epoch in range(num_epochs):\n",
    "    for i, (images, labels) in enumerate(train_loader):  \n",
    "        # origin shape: [100, 1, 28, 28]\n",
    "        # resized: [100, 784]\n",
    "        images = images.reshape(-1, 28*28).to(device)\n",
    "        labels = labels.to(device)\n",
    "        #forward\n",
    "        outputs = model(images)\n",
    "        loss = criterion(outputs, labels)\n",
    "        #backpass\n",
    "    \n",
    "        optimizer.zero_grad()\n",
    "        loss.backward()\n",
    "        optimizer.step()\n",
    "        \n",
    "        if (i+1) % 100 == 0:\n",
    "            print (f'Epoch [{epoch+1}/{num_epochs}], Step [{i+1}/{n_total_steps}], Loss: {loss.item():.4f}')\n",
    "\n",
    "            \n",
    "            \n",
    "\n",
    "with torch.no_grad():\n",
    "    n_correct = 0\n",
    "    n_samples = 0\n",
    "    for images, labels in test_loader:\n",
    "        images = images.reshape(-1, 28*28).to(device)\n",
    "        labels = labels.to(device)\n",
    "        outputs = model(images)\n",
    "        # max returns (value ,index)\n",
    "        _, predicted = torch.max(outputs.data, 1)\n",
    "        n_samples += labels.size(0)\n",
    "        n_correct += (predicted == labels).sum().item()\n",
    "\n",
    "    acc = 100.0 * n_correct / n_samples\n",
    "    print(f'Accuracy: {acc} %')   \n"
   ]
  },
  {
   "cell_type": "code",
   "execution_count": null,
   "id": "964a7e5b",
   "metadata": {},
   "outputs": [],
   "source": []
  }
 ],
 "metadata": {
  "kernelspec": {
   "display_name": "Python 3 (ipykernel)",
   "language": "python",
   "name": "python3"
  },
  "language_info": {
   "codemirror_mode": {
    "name": "ipython",
    "version": 3
   },
   "file_extension": ".py",
   "mimetype": "text/x-python",
   "name": "python",
   "nbconvert_exporter": "python",
   "pygments_lexer": "ipython3",
   "version": "3.8.10"
  }
 },
 "nbformat": 4,
 "nbformat_minor": 5
}
