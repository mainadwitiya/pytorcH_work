{
 "cells": [
  {
   "cell_type": "code",
   "execution_count": null,
   "id": "ac09daea",
   "metadata": {},
   "outputs": [],
   "source": [
    "'''\n",
    "1. Design model(input,output,forward pass)\n",
    "2. loss and optimisation func\n",
    "3. Training loop\n",
    "    3.1 -forward pass - compute\n",
    "    3.2 -backward pass - gradiens\n",
    "    3.3 update weights\n",
    "'''"
   ]
  },
  {
   "cell_type": "code",
   "execution_count": 1,
   "id": "4c7c4f9d",
   "metadata": {},
   "outputs": [],
   "source": [
    "import torch\n",
    "import torch.nn as nn\n",
    "import numpy as np\n",
    "from sklearn import datasets\n",
    "from sklearn.preprocessing import StandardScaler\n",
    "from sklearn.model_selection import train_test_split"
   ]
  },
  {
   "cell_type": "code",
   "execution_count": 2,
   "id": "d6dca1e3",
   "metadata": {},
   "outputs": [],
   "source": [
    "#prep data\n",
    "\n",
    "dataset=datasets.load_breast_cancer()\n",
    "X,y=dataset.data,dataset.target"
   ]
  },
  {
   "cell_type": "code",
   "execution_count": 3,
   "id": "51fceaa7",
   "metadata": {},
   "outputs": [
    {
     "name": "stdout",
     "output_type": "stream",
     "text": [
      "569 30\n"
     ]
    }
   ],
   "source": [
    "n_sample,n_feat=X.shape\n",
    "print(n_sample,n_feat)"
   ]
  },
  {
   "cell_type": "code",
   "execution_count": 4,
   "id": "1952b6bb",
   "metadata": {},
   "outputs": [],
   "source": [
    "X_train,X_test,y_train,y_test=train_test_split(X,y,test_size=0.18,random_state=42)\n",
    "scaler=StandardScaler()\n",
    "X_train=scaler.fit_transform(X_train)\n",
    "X_test=scaler.transform(X_test)"
   ]
  },
  {
   "cell_type": "code",
   "execution_count": 5,
   "id": "6c2458f3",
   "metadata": {},
   "outputs": [],
   "source": [
    "#convert into tensor and reshape\n",
    "X_train=torch.from_numpy(X_train.astype(np.float32))\n",
    "X_test=torch.from_numpy(X_test.astype(np.float32))\n",
    "y_train=torch.from_numpy(y_train.astype(np.float32))\n",
    "y_test=torch.from_numpy(y_test.astype(np.float32))\n",
    "\n",
    "\n",
    "\n"
   ]
  },
  {
   "cell_type": "code",
   "execution_count": 6,
   "id": "bf1c53f4",
   "metadata": {},
   "outputs": [
    {
     "name": "stdout",
     "output_type": "stream",
     "text": [
      "tensor([[0.],\n",
      "        [1.],\n",
      "        [1.],\n",
      "        [1.],\n",
      "        [0.]])\n"
     ]
    }
   ],
   "source": [
    "#making it into column vector \n",
    "y_train=y_train.view(y_train.shape[0],1)\n",
    "y_test=y_test.view(y_test.shape[0],1)\n",
    "print(y_train[0:5])"
   ]
  },
  {
   "cell_type": "code",
   "execution_count": 7,
   "id": "93736feb",
   "metadata": {},
   "outputs": [],
   "source": [
    "#Modelling\n",
    "#f=wx+b,sigmoid at end for probabilities\n",
    "class LogisticReg(nn.Module):\n",
    "    def __init__(self,n_input_features):\n",
    "        super(LogisticReg,self).__init__()\n",
    "        self.linear=nn.Linear(n_input_features,1)\n",
    "    \n",
    "    def forward(self,data):\n",
    "        y_pred= torch.sigmoid(self.linear(data))\n",
    "        return y_pred\n",
    "    \n",
    "model=LogisticReg(n_feat)"
   ]
  },
  {
   "cell_type": "code",
   "execution_count": 8,
   "id": "0c41029d",
   "metadata": {},
   "outputs": [],
   "source": [
    "#loss and optimizer\n",
    "lr=0.01\n",
    "criterion=nn.BCELoss() # binary cross entropy loss\n",
    "optimizer=torch.optim.SGD(model.parameters(),lr=lr)"
   ]
  },
  {
   "cell_type": "code",
   "execution_count": 9,
   "id": "d62bee3d",
   "metadata": {},
   "outputs": [
    {
     "name": "stdout",
     "output_type": "stream",
     "text": [
      "epoch=10, loss= 0.496\n",
      "epoch=20, loss= 0.423\n",
      "epoch=30, loss= 0.375\n",
      "epoch=40, loss= 0.340\n",
      "epoch=50, loss= 0.314\n",
      "epoch=60, loss= 0.293\n",
      "epoch=70, loss= 0.277\n",
      "epoch=80, loss= 0.263\n",
      "epoch=90, loss= 0.251\n",
      "epoch=100, loss= 0.241\n",
      "accuracy:0.961\n"
     ]
    }
   ],
   "source": [
    "num_epochs=101\n",
    "for epoch in range(num_epochs):\n",
    "    #forward pass\n",
    "    y_pred=model(X_train)\n",
    "    \n",
    "    #loss calc\n",
    "    loss=criterion(y_pred,y_train)\n",
    "    \n",
    "    #backward pass\n",
    "    loss.backward()\n",
    "    \n",
    "    #updates\n",
    "    optimizer.step()\n",
    "    \n",
    "    #zero the gradients\n",
    "    \n",
    "    optimizer.zero_grad()\n",
    "    \n",
    "    if (epoch+1) %10==0:\n",
    "        print(f'epoch={epoch+1}, loss= {loss:.3f}')\n",
    "\n",
    "#evaluation\n",
    "#evalution should not be part of compuational graph\n",
    "with torch.no_grad():\n",
    "    y_pred=model(X_test)\n",
    "    y_pred_class=y_pred.round()\n",
    "    acc= y_pred_class.eq(y_test).sum() /float(len(y_test))\n",
    "    print(f'accuracy:{acc:.3f}')"
   ]
  },
  {
   "cell_type": "code",
   "execution_count": null,
   "id": "363db5c1",
   "metadata": {},
   "outputs": [],
   "source": []
  },
  {
   "cell_type": "code",
   "execution_count": null,
   "id": "41d00440",
   "metadata": {},
   "outputs": [],
   "source": []
  }
 ],
 "metadata": {
  "kernelspec": {
   "display_name": "Python 3 (ipykernel)",
   "language": "python",
   "name": "python3"
  },
  "language_info": {
   "codemirror_mode": {
    "name": "ipython",
    "version": 3
   },
   "file_extension": ".py",
   "mimetype": "text/x-python",
   "name": "python",
   "nbconvert_exporter": "python",
   "pygments_lexer": "ipython3",
   "version": "3.8.10"
  }
 },
 "nbformat": 4,
 "nbformat_minor": 5
}
