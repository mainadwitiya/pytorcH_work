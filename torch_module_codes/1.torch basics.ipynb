{
 "cells": [
  {
   "cell_type": "code",
   "execution_count": 48,
   "id": "769d5b89",
   "metadata": {},
   "outputs": [
    {
     "name": "stdout",
     "output_type": "stream",
     "text": [
      "NVIDIA GeForce GTX 1050 Ti\n"
     ]
    }
   ],
   "source": [
    "import torch\n",
    "if torch.cuda.is_available():\n",
    "    device=torch.device('cuda')\n",
    "    print(torch.cuda.get_device_name(0))"
   ]
  },
  {
   "cell_type": "code",
   "execution_count": 7,
   "id": "db5d1268",
   "metadata": {},
   "outputs": [
    {
     "name": "stdout",
     "output_type": "stream",
     "text": [
      "tensor([[9.9347e-36, 0.0000e+00],\n",
      "        [9.5287e-36, 0.0000e+00]])\n"
     ]
    }
   ],
   "source": [
    "x=torch.empty(2,2)\n",
    "print(x)"
   ]
  },
  {
   "cell_type": "code",
   "execution_count": 8,
   "id": "f94ff1d7",
   "metadata": {},
   "outputs": [
    {
     "name": "stdout",
     "output_type": "stream",
     "text": [
      "tensor([[0.1607, 0.1411],\n",
      "        [0.3442, 0.2831]])\n"
     ]
    }
   ],
   "source": [
    "x=torch.rand(2,2)\n",
    "print(x)"
   ]
  },
  {
   "cell_type": "code",
   "execution_count": 17,
   "id": "2dc85cba",
   "metadata": {},
   "outputs": [
    {
     "name": "stdout",
     "output_type": "stream",
     "text": [
      "tensor([[0., 0.],\n",
      "        [0., 0.]])\n",
      "Ones tensor\n",
      "tensor([[1., 1.],\n",
      "        [1., 1.]])\n",
      "tensor([[0.5264, 0.7893, 0.9411, 0.7984],\n",
      "        [0.3105, 0.4593, 0.3589, 0.6618],\n",
      "        [0.0710, 0.4043, 0.8875, 0.0122]], dtype=torch.float64)\n",
      "torch.Size([3, 4])\n",
      "torch.float64\n"
     ]
    }
   ],
   "source": [
    "#Zeros, ones and dtypes\n",
    "x=torch.zeros(2,2)\n",
    "print(x)\n",
    "print('Ones tensor')\n",
    "y=torch.ones(2,2)\n",
    "print(y)\n",
    "z=torch.rand(3,4,dtype=torch.float64)\n",
    "print(z)\n",
    "print(z.size())\n",
    "print(z.dtype)"
   ]
  },
  {
   "cell_type": "code",
   "execution_count": 22,
   "id": "b1f969b7",
   "metadata": {},
   "outputs": [
    {
     "name": "stdout",
     "output_type": "stream",
     "text": [
      "tensor([[0.7797, 0.9423, 1.8831, 0.5328],\n",
      "        [0.9211, 1.0933, 0.1422, 1.7598],\n",
      "        [0.2904, 0.9091, 0.5092, 0.9013]], dtype=torch.float64)\n",
      "ADDition using add function\n",
      "tensor([[0.7797, 0.9423, 1.8831, 0.5328],\n",
      "        [0.9211, 1.0933, 0.1422, 1.7598],\n",
      "        [0.2904, 0.9091, 0.5092, 0.9013]], dtype=torch.float64)\n"
     ]
    }
   ],
   "source": [
    "#Addition element wise additon\n",
    "z=torch.rand(3,4,dtype=torch.float64)\n",
    "k=torch.rand(3,4,dtype=torch.float64)\n",
    "q=z+k\n",
    "print(q)\n",
    "\n",
    "#also can use add dunction\n",
    "print(\"ADDition using add function\")\n",
    "o=torch.add(z,k)\n",
    "print(o)"
   ]
  },
  {
   "cell_type": "code",
   "execution_count": 23,
   "id": "0150e35b",
   "metadata": {},
   "outputs": [
    {
     "name": "stdout",
     "output_type": "stream",
     "text": [
      "tensor([[ 0.0731,  0.0187,  0.7306, -0.6911],\n",
      "        [ 0.2249, -0.2251, -0.1945, -0.0934],\n",
      "        [-0.5197, -0.9290, -0.0054, -0.1484]], dtype=torch.float64)\n",
      "ADDition using add function\n",
      "tensor([[ 0.0731,  0.0187,  0.7306, -0.6911],\n",
      "        [ 0.2249, -0.2251, -0.1945, -0.0934],\n",
      "        [-0.5197, -0.9290, -0.0054, -0.1484]], dtype=torch.float64)\n"
     ]
    }
   ],
   "source": [
    "#Subtraction element wise additon\n",
    "z=torch.rand(3,4,dtype=torch.float64)\n",
    "k=torch.rand(3,4,dtype=torch.float64)\n",
    "q=z-k\n",
    "print(q)\n",
    "\n",
    "#sub can use add dunction\n",
    "print(\"Subtraction using add function\")\n",
    "o=torch.sub(z,k)\n",
    "print(o)"
   ]
  },
  {
   "cell_type": "code",
   "execution_count": 24,
   "id": "50b8212f",
   "metadata": {},
   "outputs": [
    {
     "name": "stdout",
     "output_type": "stream",
     "text": [
      "tensor([[0.5771, 0.2070, 0.0706, 0.7185],\n",
      "        [0.3488, 0.3338, 0.0788, 0.0264],\n",
      "        [0.1024, 0.3192, 0.0220, 0.0143]], dtype=torch.float64)\n",
      "ADDition using add function\n",
      "tensor([[0.5771, 0.2070, 0.0706, 0.7185],\n",
      "        [0.3488, 0.3338, 0.0788, 0.0264],\n",
      "        [0.1024, 0.3192, 0.0220, 0.0143]], dtype=torch.float64)\n"
     ]
    }
   ],
   "source": [
    "#multiplication element wise additon\n",
    "z=torch.rand(3,4,dtype=torch.float64)\n",
    "k=torch.rand(3,4,dtype=torch.float64)\n",
    "q=z*k\n",
    "print(q)\n",
    "\n",
    "#mul can use add dunction\n",
    "print(\"Multiplication using add function\")\n",
    "o=torch.mul(z,k)\n",
    "print(o)"
   ]
  },
  {
   "cell_type": "code",
   "execution_count": 25,
   "id": "881fe33d",
   "metadata": {},
   "outputs": [
    {
     "name": "stdout",
     "output_type": "stream",
     "text": [
      "tensor([[ 0.4044,  0.3823,  0.5352,  6.5340],\n",
      "        [ 1.2357,  1.7091, 11.4855,  1.9552],\n",
      "        [ 1.3658,  4.4072,  6.0760,  0.4397]], dtype=torch.float64)\n",
      "ADDition using add function\n",
      "tensor([[ 0.4044,  0.3823,  0.5352,  6.5340],\n",
      "        [ 1.2357,  1.7091, 11.4855,  1.9552],\n",
      "        [ 1.3658,  4.4072,  6.0760,  0.4397]], dtype=torch.float64)\n"
     ]
    }
   ],
   "source": [
    "#divison element wise additon\n",
    "z=torch.rand(3,4,dtype=torch.float64)\n",
    "k=torch.rand(3,4,dtype=torch.float64)\n",
    "q=z/k\n",
    "print(q)\n",
    "\n",
    "#mul can use add dunction\n",
    "print(\"Division using add function\")\n",
    "o=torch.div(z,k)\n",
    "print(o)"
   ]
  },
  {
   "cell_type": "code",
   "execution_count": 37,
   "id": "7437d93a",
   "metadata": {},
   "outputs": [
    {
     "name": "stdout",
     "output_type": "stream",
     "text": [
      "tensor([[0.9825, 0.7189, 0.4700],\n",
      "        [0.3791, 0.6701, 0.4486],\n",
      "        [0.2516, 0.8652, 0.4468],\n",
      "        [0.8602, 0.3586, 0.5551],\n",
      "        [0.9496, 0.8400, 0.5227]])\n",
      "slicing from 2 to second last\n",
      "tensor([[0.2516, 0.8652, 0.4468],\n",
      "        [0.8602, 0.3586, 0.5551]])\n",
      "only column 0\n",
      "tensor([0.9825, 0.3791, 0.2516, 0.8602, 0.9496])\n"
     ]
    },
    {
     "data": {
      "text/plain": [
       "tensor([[0.9825, 0.3791, 0.2516, 0.8602, 0.9496],\n",
       "        [0.7189, 0.6701, 0.8652, 0.3586, 0.8400],\n",
       "        [0.4700, 0.4486, 0.4468, 0.5551, 0.5227]])"
      ]
     },
     "execution_count": 37,
     "metadata": {},
     "output_type": "execute_result"
    }
   ],
   "source": [
    "#slicing\n",
    "x=torch.rand(5,3)\n",
    "print(x)\n",
    "print('slicing from 2 to second last')\n",
    "print(x[2:-1])\n",
    "print('only column 0')\n",
    "print(x[:,0])\n"
   ]
  },
  {
   "cell_type": "code",
   "execution_count": 38,
   "id": "972633df",
   "metadata": {},
   "outputs": [
    {
     "name": "stdout",
     "output_type": "stream",
     "text": [
      "tensor([[0.0835, 0.8411],\n",
      "        [0.6163, 0.0566],\n",
      "        [0.5425, 0.0013],\n",
      "        [0.3668, 0.6913],\n",
      "        [0.5063, 0.3539],\n",
      "        [0.2848, 0.0651]])\n",
      "tensor([[0.0835, 0.6163, 0.5425, 0.3668, 0.5063, 0.2848],\n",
      "        [0.8411, 0.0566, 0.0013, 0.6913, 0.3539, 0.0651]])\n"
     ]
    }
   ],
   "source": [
    "#transpose tensor\n",
    "x=torch.rand(6,2)\n",
    "print(x)\n",
    "\n",
    "z=torch.t(x)\n",
    "print(z)"
   ]
  }
 ],
 "metadata": {
  "kernelspec": {
   "display_name": "Python 3 (ipykernel)",
   "language": "python",
   "name": "python3"
  },
  "language_info": {
   "codemirror_mode": {
    "name": "ipython",
    "version": 3
   },
   "file_extension": ".py",
   "mimetype": "text/x-python",
   "name": "python",
   "nbconvert_exporter": "python",
   "pygments_lexer": "ipython3",
   "version": "3.8.10"
  }
 },
 "nbformat": 4,
 "nbformat_minor": 5
}
