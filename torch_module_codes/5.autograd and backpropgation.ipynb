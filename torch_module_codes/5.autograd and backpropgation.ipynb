{
 "cells": [
  {
   "cell_type": "code",
   "execution_count": 6,
   "id": "2da61fde",
   "metadata": {},
   "outputs": [],
   "source": [
    "import torch\n",
    "if torch.cuda.is_available():\n",
    "    device=torch.device('cuda')"
   ]
  },
  {
   "cell_type": "code",
   "execution_count": 7,
   "id": "39687e45",
   "metadata": {},
   "outputs": [
    {
     "name": "stdout",
     "output_type": "stream",
     "text": [
      "tensor([0.0124, 0.6998, 0.8888], requires_grad=True)\n"
     ]
    }
   ],
   "source": [
    "x=torch.rand(3,requires_grad=True)\n",
    "print(x)"
   ]
  },
  {
   "cell_type": "code",
   "execution_count": 26,
   "id": "8575b280",
   "metadata": {},
   "outputs": [
    {
     "name": "stdout",
     "output_type": "stream",
     "text": [
      "tensor([0.0248, 1.3996, 1.7777], grad_fn=<MulBackward0>)\n",
      "tensor(3.4130, grad_fn=<MeanBackward0>)\n"
     ]
    }
   ],
   "source": [
    "#specifying requires_grad=True is must to do backward propogation\n",
    "#it creates vector jacobian product aka chain-rule\n",
    "z=x*2\n",
    "print(z)\n",
    "y=z*z*2\n",
    "y=y.mean()\n",
    "print(y)"
   ]
  },
  {
   "cell_type": "code",
   "execution_count": 27,
   "id": "72df7fdf",
   "metadata": {},
   "outputs": [
    {
     "name": "stdout",
     "output_type": "stream",
     "text": [
      "tensor([ 0.2648, 14.9287, 18.9620])\n"
     ]
    }
   ],
   "source": [
    "y.backward() #dy/dx\n",
    "print(x.grad)"
   ]
  },
  {
   "cell_type": "code",
   "execution_count": 34,
   "id": "58fe94cf",
   "metadata": {},
   "outputs": [
    {
     "name": "stdout",
     "output_type": "stream",
     "text": [
      "tensor([5., 5., 5.])\n",
      "tensor([5., 5., 5.])\n",
      "tensor([5., 5., 5.])\n",
      "tensor([5., 5., 5.])\n",
      "tensor([5., 5., 5.])\n"
     ]
    }
   ],
   "source": [
    "#dummy model\n",
    "weights=torch.ones(3,requires_grad=True)\n",
    "for e in range(5):\n",
    "    m_output=(weights*5).sum()\n",
    "    m_output.backward()\n",
    "    print(weights.grad)\n",
    "    \n",
    "    #initializing weights to zero again\n",
    "    weights.grad.zero_()"
   ]
  },
  {
   "cell_type": "code",
   "execution_count": 45,
   "id": "51c085fe",
   "metadata": {},
   "outputs": [
    {
     "name": "stdout",
     "output_type": "stream",
     "text": [
      "tensor(1., grad_fn=<PowBackward0>)\n",
      "tensor(6.)\n"
     ]
    }
   ],
   "source": [
    "#backpropogation \n",
    "x=torch.tensor(3.0,requires_grad=True)\n",
    "y=torch.tensor(2.0,requires_grad=True)\n",
    "weights=torch.tensor(1.0,requires_grad=True)\n",
    "\n",
    "#forward pass and compute loss\n",
    "y_hat=weights*x\n",
    "loss=(y_hat-y)**2\n",
    "print(loss)\n",
    "\n",
    "\n",
    "#backward pass now\n",
    "loss.backward()\n",
    "print(weights.grad)\n",
    "\n",
    "\n",
    "#update weights and keep doing"
   ]
  },
  {
   "cell_type": "code",
   "execution_count": null,
   "id": "bdcb8360",
   "metadata": {},
   "outputs": [],
   "source": []
  }
 ],
 "metadata": {
  "kernelspec": {
   "display_name": "Python 3 (ipykernel)",
   "language": "python",
   "name": "python3"
  },
  "language_info": {
   "codemirror_mode": {
    "name": "ipython",
    "version": 3
   },
   "file_extension": ".py",
   "mimetype": "text/x-python",
   "name": "python",
   "nbconvert_exporter": "python",
   "pygments_lexer": "ipython3",
   "version": "3.8.10"
  }
 },
 "nbformat": 4,
 "nbformat_minor": 5
}
