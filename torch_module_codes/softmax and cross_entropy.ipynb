{
 "cells": [
  {
   "cell_type": "code",
   "execution_count": 1,
   "metadata": {},
   "outputs": [],
   "source": [
    "import torch \n",
    "import torch.nn as nn\n",
    "import numpy as np"
   ]
  },
  {
   "cell_type": "code",
   "execution_count": 2,
   "metadata": {},
   "outputs": [
    {
     "name": "stdout",
     "output_type": "stream",
     "text": [
      "outputs of softmax: [0.71029433 0.19357779 0.09612788]\n"
     ]
    }
   ],
   "source": [
    "#softmax numpy implementation\n",
    "def softmax(x):\n",
    "    return np.exp(x) / np.sum(np.exp(x),axis=0)\n",
    "\n",
    "X=np.array([2.5,1.2,0.5])\n",
    "outputs=softmax(X)\n",
    "print(f'outputs of softmax: {outputs}')"
   ]
  },
  {
   "cell_type": "code",
   "execution_count": 3,
   "metadata": {},
   "outputs": [
    {
     "name": "stdout",
     "output_type": "stream",
     "text": [
      "tensor([0.7103, 0.1936, 0.0961])\n"
     ]
    }
   ],
   "source": [
    "#torch implementaion\n",
    "\n",
    "X=torch.tensor([2.5,1.2,0.5])\n",
    "outputs=torch.softmax(X,axis=0)\n",
    "print(outputs)"
   ]
  },
  {
   "cell_type": "code",
   "execution_count": 4,
   "metadata": {},
   "outputs": [
    {
     "name": "stdout",
     "output_type": "stream",
     "text": [
      "cross entropy for good pred= 0.2231435513142097\n",
      "cross entropy for bad pred= 1.6094379124341003\n"
     ]
    }
   ],
   "source": [
    "#cross entropy loss\n",
    "# y should be one hot encoded\n",
    "'''\n",
    "Cross-entropy builds upon the idea of information theory entropy and\n",
    "measures the difference between two probability distributions for a \n",
    "given random variable/set of events.\n",
    "'''\n",
    "\n",
    "def cross_entropy(actual,pred):\n",
    "    loss= -np.sum(actual*np.log(pred))\n",
    "    return loss\n",
    "    \n",
    "Y=np.array([1,0,0])\n",
    "\n",
    "Y_pred_good=np.array([0.8,0.2,0.1])\n",
    "\n",
    "Y_pred_bad=np.array([0.2,0.1,0.7])\n",
    "\n",
    "\n",
    "print(f'cross entropy for good pred= {cross_entropy(Y,Y_pred_good)}')\n",
    "print(f'cross entropy for bad pred= {cross_entropy(Y,Y_pred_bad)}')"
   ]
  },
  {
   "cell_type": "code",
   "execution_count": 5,
   "metadata": {},
   "outputs": [
    {
     "name": "stdout",
     "output_type": "stream",
     "text": [
      "cross entropy for good pred= 0.5514446496963501\n",
      "cross entropy for good pred= 2.175661325454712\n"
     ]
    }
   ],
   "source": [
    "#NO SOFTMAX IS REQUIRED IN LAST LAYER AS IT ALREADY APPLIES nn.Logspftmax+nn.LLloss\n",
    "#also no hot encoding in the y\n",
    "Y=torch.tensor([0])\n",
    "#raw values without softmax\n",
    "Y_pred_good=torch.tensor([[2.0,1.0,1.0]])\n",
    "Y_pred_bad=torch.tensor([[1.0,3.0,0.13]])\n",
    "\n",
    "criterion=nn.CrossEntropyLoss()\n",
    "loss_1=criterion(Y_pred_good,Y)\n",
    "loss_2=criterion(Y_pred_bad,Y)\n",
    "print(f'cross entropy for good pred= {loss_1.item()}')\n",
    "print(f'cross entropy for good pred= {loss_2}')\n",
    "\n"
   ]
  },
  {
   "cell_type": "code",
   "execution_count": null,
   "metadata": {},
   "outputs": [],
   "source": []
  }
 ],
 "metadata": {
  "kernelspec": {
   "display_name": "Python 3",
   "language": "python",
   "name": "python3"
  },
  "language_info": {
   "codemirror_mode": {
    "name": "ipython",
    "version": 3
   },
   "file_extension": ".py",
   "mimetype": "text/x-python",
   "name": "python",
   "nbconvert_exporter": "python",
   "pygments_lexer": "ipython3",
   "version": "3.8.10"
  }
 },
 "nbformat": 4,
 "nbformat_minor": 5
}
