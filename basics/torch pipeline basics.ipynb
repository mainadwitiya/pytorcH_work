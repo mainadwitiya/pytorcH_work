{
 "cells": [
  {
   "cell_type": "code",
   "execution_count": null,
   "id": "02edbd34",
   "metadata": {},
   "outputs": [],
   "source": [
    "#prediction -pytorch model\n",
    "#gradients -autograd\n",
    "#loss computation -pytorch loss\n",
    "#params update - pytorch optimizers\n"
   ]
  },
  {
   "cell_type": "code",
   "execution_count": null,
   "id": "b93aa909",
   "metadata": {},
   "outputs": [],
   "source": [
    "'''\n",
    "1 design model -(input size, output_size,forward_pass)\n",
    "2 construct loss and optimizers\n",
    "\n",
    "3 training loop\n",
    "    3.1 forward pass : compute\n",
    "    3.2 backward pass: gradients\n",
    "    update weights\n",
    "'''"
   ]
  },
  {
   "cell_type": "code",
   "execution_count": 1,
   "id": "7659cc67",
   "metadata": {},
   "outputs": [],
   "source": [
    "import torch\n",
    "if torch.cuda.is_available():\n",
    "    torch.device('cuda')\n",
    "import torch.nn as nn"
   ]
  },
  {
   "cell_type": "code",
   "execution_count": 2,
   "id": "a10cbda8",
   "metadata": {},
   "outputs": [
    {
     "name": "stdout",
     "output_type": "stream",
     "text": [
      "epoch1:w =0.440,loss=44.00000\n",
      "epoch6:w =1.550,loss=3.66774\n",
      "epoch11:w =1.870,loss=0.30573\n",
      "epoch16:w =1.962,loss=0.02549\n",
      "epoch21:w =1.989,loss=0.00212\n",
      "epoch26:w =1.997,loss=0.00018\n",
      "epoch31:w =1.999,loss=0.00001\n",
      "epoch36:w =2.000,loss=0.00000\n",
      "epoch41:w =2.000,loss=0.00000\n",
      "epoch46:w =2.000,loss=0.00000\n",
      "prediction after training: 20.000\n"
     ]
    }
   ],
   "source": [
    "# lr with torch \n",
    "import torch\n",
    "\n",
    "X = torch.tensor([1, 2, 3, 4, 5], dtype=torch.float32)\n",
    "y = torch.tensor([2, 4, 6, 8, 10], dtype=torch.float32)\n",
    "\n",
    "w = torch.tensor(0.0,dtype=torch.float32,requires_grad=True)\n",
    "\n",
    "#model prediction\n",
    "def forward(X):\n",
    "    return w*X\n",
    "\n",
    "\n",
    "\n",
    "\n",
    "lr=0.01\n",
    "iterations=50\n",
    "loss =nn.MSELoss()\n",
    "optimizer= torch.optim.SGD([w],lr)\n",
    "\n",
    "for epoch in range(iterations):\n",
    "    y_pred=forward(X)\n",
    "    \n",
    "    l=loss(y,y_pred)\n",
    "    #calculates gradient \n",
    "    dw=l.backward() #dl/dw\n",
    "    \n",
    "    optimizer.step()\n",
    "    \n",
    "    optimizer.zero_grad()\n",
    "    if epoch %5==0:\n",
    "        print(f'epoch{epoch+1}:w ={w:.3f},loss={l:.5f}')\n",
    "\n",
    "print(f'prediction after training: {forward(10):.3f}')"
   ]
  },
  {
   "cell_type": "code",
   "execution_count": 3,
   "id": "7c8a7f30",
   "metadata": {},
   "outputs": [
    {
     "name": "stdout",
     "output_type": "stream",
     "text": [
      "5 1\n",
      "epoch: 1, weight=-0.313,bias =0.317,loss=96.76062\n",
      "epoch: 11, weight=1.652,bias =0.847,loss=0.60362\n",
      "epoch: 21, weight=1.787,bias =0.871,loss=0.16752\n",
      "epoch: 31, weight=1.799,bias =0.861,loss=0.16389\n",
      "epoch: 41, weight=1.803,bias =0.849,loss=0.16232\n"
     ]
    }
   ],
   "source": [
    "# lr with torch \n",
    "import torch\n",
    "\n",
    "X = torch.tensor([[1], [2], [3], [4], [5]], dtype=torch.float32)\n",
    "y = torch.tensor([[2], [5], [6], [8], [10]], dtype=torch.float32)\n",
    "\n",
    "n_samples,n_features=X.shape\n",
    "X_test=torch.tensor([11],dtype=torch.float32)\n",
    "print(n_samples,n_features)\n",
    "#w = torch.tensor(0.0,dtype=torch.float32,requires_grad=True)\n",
    "\n",
    "#model prediction\n",
    "# def forward(X):\n",
    "#     return w*X\n",
    "\n",
    "#pytorch forward method\n",
    "input_size=n_features\n",
    "output_size=n_features\n",
    "model =nn.Linear(input_size,output_size)\n",
    "\n",
    "\n",
    "lr=0.01\n",
    "iterations=50\n",
    "loss =nn.MSELoss()\n",
    "optimizer= torch.optim.SGD(model.parameters(),lr=lr)\n",
    "\n",
    "for epoch in range(iterations):\n",
    "    y_pred=model(X)\n",
    "    \n",
    "    l=loss(y,y_pred)\n",
    "    #calculates gradient \n",
    "    dw=l.backward() #dl/dw\n",
    "    \n",
    "    optimizer.step()\n",
    "    \n",
    "    optimizer.zero_grad()\n",
    "    if epoch %10==0:\n",
    "        [w,b]=model.parameters()\n",
    "        print(f'epoch: {epoch+1}, weight={w[0].item():.3f},bias ={b[0].item():.3f},loss={l:.5f}')\n",
    "    "
   ]
  },
  {
   "cell_type": "code",
   "execution_count": 4,
   "id": "0566a9a6",
   "metadata": {},
   "outputs": [
    {
     "name": "stdout",
     "output_type": "stream",
     "text": [
      "prediction after training: 20.707\n"
     ]
    }
   ],
   "source": [
    "print(f'prediction after training: {model(X_test).item():.3f}')\n"
   ]
  },
  {
   "cell_type": "code",
   "execution_count": null,
   "id": "fbe73fa9",
   "metadata": {},
   "outputs": [],
   "source": []
  }
 ],
 "metadata": {
  "kernelspec": {
   "display_name": "Python 3 (ipykernel)",
   "language": "python",
   "name": "python3"
  },
  "language_info": {
   "codemirror_mode": {
    "name": "ipython",
    "version": 3
   },
   "file_extension": ".py",
   "mimetype": "text/x-python",
   "name": "python",
   "nbconvert_exporter": "python",
   "pygments_lexer": "ipython3",
   "version": "3.8.10"
  }
 },
 "nbformat": 4,
 "nbformat_minor": 5
}
